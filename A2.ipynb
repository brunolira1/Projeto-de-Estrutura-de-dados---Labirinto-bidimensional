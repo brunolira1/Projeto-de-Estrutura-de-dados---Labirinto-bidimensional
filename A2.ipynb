{
 "cells": [
  {
   "cell_type": "code",
   "execution_count": 98,
   "metadata": {},
   "outputs": [],
   "source": [
    "from turtle import *\n",
    "from random import choice"
   ]
  },
  {
   "cell_type": "code",
   "execution_count": 99,
   "metadata": {},
   "outputs": [],
   "source": [
    "def ler_matriz():\n",
    "    tam_matriz = 20\n",
    "    matriz = [[choice([0, 1]) for i in range(tam_matriz)] for j in range(tam_matriz)]\n",
    "    return matriz"
   ]
  },
  {
   "cell_type": "code",
   "execution_count": 100,
   "metadata": {},
   "outputs": [],
   "source": [
    "def criar_labirinto(p1=420, p2=420, p3=370, p4=100):\n",
    "    \"\"\" Cria uma tela do Turtle \"\"\"\n",
    "    \n",
    "    bgcolor('black')\n",
    "    setup(p1, p2, p3, p4)\n",
    "    \n",
    "    hideturtle()\n",
    "    speed(0)\n",
    "    \n",
    "    # IMPLEMENTE A LÓGICA A SEGUIR\n",
    "    # Para cada celula (i,j) da matriz que for caminho desenhe uma celula\n",
    "    \n",
    "    matriz = ler_matriz()\n",
    "    for matriz_linha_idx, matriz_linha in enumerate(matriz):\n",
    "        for matriz_coluna_idx, matriz_coluna in enumerate(matriz_linha):\n",
    "            if matriz_coluna == 1:\n",
    "                xt, yt = em_coord_turtle(matriz_linha_idx + 1, matriz_coluna_idx + 1)\n",
    "                desenhar_celula(xt, yt, 'blue')"
   ]
  },
  {
   "cell_type": "code",
   "execution_count": 101,
   "metadata": {},
   "outputs": [],
   "source": [
    "def desenhar_celula(xt, yt, cor='blue'):\n",
    "    \"\"\" Dada uma coordenada (xt, yt) do Turtle, desenha um quadrado (célula) na posição \"\"\"\n",
    "    # IMPLEMENTE A LÓGICA ESPECIFICADA AQUI\n",
    "    \n",
    "    tam_quadrado = 20\n",
    "    \n",
    "    penup()\n",
    "    goto(xt - (tam_quadrado/2), yt + (tam_quadrado/2))\n",
    "    \n",
    "    fillcolor(cor)\n",
    "    begin_fill()\n",
    "    \n",
    "    for i in range(4): \n",
    "        forward(tam_quadrado)\n",
    "        right(90)\n",
    "        \n",
    "    pendown()\n",
    "    end_fill()"
   ]
  },
  {
   "cell_type": "code",
   "execution_count": 102,
   "metadata": {},
   "outputs": [],
   "source": [
    "def em_coord_turtle(xm, ym):\n",
    "    \"\"\" Dada uma coordenada da matriz (i,j) transforma em coordenada Turtle \"\"\"\n",
    "    # IMPLEMENTE A LÓGICA ESPECIFICADA AQUI\n",
    "    matriz = ler_matriz()\n",
    "    \n",
    "    screensize = (420, 420)\n",
    "    \n",
    "    xc = xm * ((screensize[0] - 20) / len(matriz[0])) - ((screensize[0] - 20) / 2)\n",
    "    xy = (ym * ((screensize[1] - 20) / len(matriz)) - ((screensize[1] - 20) / 2)) * -1\n",
    "    \n",
    "    return xc, xy"
   ]
  },
  {
   "cell_type": "code",
   "execution_count": 103,
   "metadata": {},
   "outputs": [],
   "source": [
    "def main():\n",
    "    criar_labirinto()\n",
    "    done()"
   ]
  },
  {
   "cell_type": "code",
   "execution_count": 104,
   "metadata": {},
   "outputs": [],
   "source": [
    "main()"
   ]
  }
 ],
 "metadata": {
  "kernelspec": {
   "display_name": "Python 3.8.0 32-bit",
   "language": "python",
   "name": "python38032bite44573f15b8c4147837107756fc543c6"
  },
  "language_info": {
   "codemirror_mode": {
    "name": "ipython",
    "version": 3
   },
   "file_extension": ".py",
   "mimetype": "text/x-python",
   "name": "python",
   "nbconvert_exporter": "python",
   "pygments_lexer": "ipython3",
   "version": "3.8.0"
  }
 },
 "nbformat": 4,
 "nbformat_minor": 4
}
