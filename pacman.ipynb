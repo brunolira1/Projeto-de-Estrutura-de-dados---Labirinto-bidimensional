{
 "cells": [
  {
   "cell_type": "code",
   "execution_count": 1,
   "metadata": {},
   "outputs": [],
   "source": [
    "from utils import floor\n",
    "from turtle import *\n",
    "import numpy as np"
   ]
  },
  {
   "cell_type": "code",
   "execution_count": 2,
   "metadata": {},
   "outputs": [
    {
     "data": {
      "text/plain": [
       "' Funções já implementadas '"
      ]
     },
     "execution_count": 2,
     "metadata": {},
     "output_type": "execute_result"
    }
   ],
   "source": [
    "\"\"\" Funções já implementadas \"\"\""
   ]
  },
  {
   "cell_type": "code",
   "execution_count": 3,
   "metadata": {},
   "outputs": [],
   "source": [
    "def ler_matriz_fixa():\n",
    "    \"\"\" Retorna uma matriz fixa \"\"\"\n",
    "    return [[0,0,0,0,0,0,0,0,0,0,1,0,0,0,0,0,0,0,0,0],\\\n",
    "            [0,0,0,0,0,0,0,0,0,0,1,0,0,0,0,0,0,0,0,0],\\\n",
    "            [0,0,0,0,0,0,0,0,0,0,1,0,0,0,0,0,0,0,0,0],\\\n",
    "            [0,0,0,0,0,0,0,0,0,0,1,0,0,0,0,0,0,0,0,0],\\\n",
    "            [0,0,0,0,0,0,0,0,0,0,1,0,0,0,0,0,0,0,0,0],\\\n",
    "            [0,0,0,0,0,0,0,0,0,0,1,0,0,0,0,0,0,0,0,0],\\\n",
    "            [0,0,0,0,0,0,0,0,0,0,1,0,0,0,0,0,0,0,0,0],\\\n",
    "            [0,0,0,0,0,0,0,0,0,0,1,0,0,0,0,0,0,0,0,0],\\\n",
    "            [0,0,0,0,0,0,0,0,0,0,1,0,0,0,0,0,0,0,0,0],\\\n",
    "            [1,1,1,1,1,1,1,1,1,1,1,1,1,1,1,1,1,1,1,1],\\\n",
    "            [0,0,0,0,0,0,0,0,0,0,1,0,0,0,0,0,0,0,0,0],\\\n",
    "            [0,0,0,0,0,0,0,0,0,0,1,0,0,0,0,0,0,0,0,0],\\\n",
    "            [0,0,0,0,0,0,0,0,0,0,1,0,0,0,0,0,0,0,0,0],\\\n",
    "            [0,0,0,0,0,0,0,0,0,0,1,0,0,0,0,0,0,0,0,0],\\\n",
    "            [0,0,0,0,0,0,0,0,0,0,1,0,0,0,0,0,0,0,0,0],\\\n",
    "            [0,0,0,0,0,0,0,0,0,0,1,0,0,0,0,0,0,0,0,0],\\\n",
    "            [0,0,0,0,0,0,0,0,0,0,1,0,0,0,0,0,0,0,0,0],\\\n",
    "            [0,0,0,0,0,0,0,0,0,0,1,0,0,0,0,0,0,0,0,0],\\\n",
    "            [0,0,0,0,0,0,0,0,0,0,1,0,0,0,0,0,0,0,0,0],\\\n",
    "            [0,0,0,0,0,0,0,0,0,0,1,0,0,0,0,0,0,0,0,0]]"
   ]
  },
  {
   "cell_type": "code",
   "execution_count": 4,
   "metadata": {},
   "outputs": [],
   "source": [
    "def criar_labirinto(p1=420, p2=420, p3=370, p4=0):\n",
    "    \"\"\" Cria o gráfico do labirinto baseado nos valores da matriz \"\"\"\n",
    "    tracer(False)\n",
    "    hideturtle()\n",
    "    bgcolor('black')\n",
    "    setup(p1, p2, p3, p4)\n",
    "\n",
    "    # Para cada linha da matriz\n",
    "    for lin in range(dim):\n",
    "        # Para cada coluna da matriz\n",
    "        for col in range(dim):\n",
    "            # Testa se a coordenada da matriz (lin, col) é caminho (=1)\n",
    "            if (matriz[lin][col] == 1):\n",
    "                # Em caso positivo, transforma em coordenada Turtle.\n",
    "                # Atenção: Numa coordenada Turtle (x,y), o eixo x refere-se à coluna e o eixo y à linha\n",
    "                # Numa coordenada da matriz (lin, col), o primeiro elemento é a linha e o segundo a coluna\n",
    "                x, y = em_coord_turtle(lin, col)\n",
    "                # Pinta a celula na posição (x,y) com a cor especificada\n",
    "                desenhar_celula(x, y, 'blue')\n",
    "\n",
    "                desenhar_pastilha(x, y, 'white')\n",
    "\n",
    "    # Mostra as transformações na tela.\n",
    "    # Necessário porque o Tracer() está desligado\n",
    "    update()"
   ]
  },
  {
   "cell_type": "code",
   "execution_count": 5,
   "metadata": {},
   "outputs": [],
   "source": [
    "def desenhar_celula(x, y, cor):\n",
    "    \"\"\" Dada uma coordenada (x, y) do Turtle, desenha um quadrado (célula) na posição \"\"\"\n",
    "    color(cor)\n",
    "    up()\n",
    "    goto(x,y)\n",
    "    down()\n",
    "    begin_fill()\n",
    "    for _ in range(4):\n",
    "        forward(tam_celula)\n",
    "        left(90)\n",
    "    end_fill()\n",
    "    up()"
   ]
  },
  {
   "cell_type": "code",
   "execution_count": 6,
   "metadata": {},
   "outputs": [
    {
     "data": {
      "text/plain": [
       "' Funções de testes '"
      ]
     },
     "execution_count": 6,
     "metadata": {},
     "output_type": "execute_result"
    }
   ],
   "source": [
    "\"\"\" Funções de testes \"\"\""
   ]
  },
  {
   "cell_type": "code",
   "execution_count": 7,
   "metadata": {},
   "outputs": [],
   "source": [
    "def teste1_transf_coord_funcionou():\n",
    "    \"\"\" Testa as transformações de coordenadas \"\"\"\n",
    "    for lin in range(dim):\n",
    "        for col in range(dim):\n",
    "            x, y = em_coord_turtle(lin, col)\n",
    "            if ( not (lin, col) == em_coord_matriz(x, y) ):\n",
    "                return False\n",
    "    return True"
   ]
  },
  {
   "cell_type": "code",
   "execution_count": 8,
   "metadata": {},
   "outputs": [],
   "source": [
    "def teste2_transf_coord_funcionou():\n",
    "    \"\"\" Testa as transformações de coordenadas \"\"\"\n",
    "    meio = dim // 2\n",
    "    tam_celula = 20\n",
    "    n = meio * tam_celula * 10\n",
    "    for k1 in range(-n, n, 10):\n",
    "        for k2 in range(n, -n, -10):\n",
    "            x = k1 / 10\n",
    "            y = k2 / 10\n",
    "            lin, col = em_coord_matriz(x, y)\n",
    "            if (not chao_da_celula(x, y) == em_coord_turtle(lin, col) ):\n",
    "                return False\n",
    "    return True"
   ]
  },
  {
   "cell_type": "code",
   "execution_count": 9,
   "metadata": {},
   "outputs": [],
   "source": [
    "def testar_transf_de_coord():\n",
    "    \"\"\" Roda os testes de transformações de coordenadas \"\"\"\n",
    "    if (teste1_transf_coord_funcionou() and \\\n",
    "        teste2_transf_coord_funcionou()):\n",
    "        return \"Todas as transformações de coordenadas funcionaram\"\n",
    "    else:\n",
    "        return \"As transformações de coordenadas não funcionaram\""
   ]
  },
  {
   "cell_type": "code",
   "execution_count": 10,
   "metadata": {},
   "outputs": [
    {
     "data": {
      "text/plain": [
       "' Funções auxiliares '"
      ]
     },
     "execution_count": 10,
     "metadata": {},
     "output_type": "execute_result"
    }
   ],
   "source": [
    "\"\"\" Funções auxiliares \"\"\""
   ]
  },
  {
   "cell_type": "code",
   "execution_count": 11,
   "metadata": {},
   "outputs": [],
   "source": [
    "def uso_do_floor():\n",
    "    \"\"\" Função de exemplo do uso do floor (chao_da_celula) \"\"\"\n",
    "    for i in range(-200,200):\n",
    "        print(\"{}\\t{}\".format(i, int(floor(i, 20)) ))"
   ]
  },
  {
   "cell_type": "code",
   "execution_count": 12,
   "metadata": {},
   "outputs": [],
   "source": [
    "def chao_da_celula(x, y):\n",
    "    \"\"\" Dadas coordenadas do Turtle (x,y), retorna as coordenadas do início de uma célula.\n",
    "        Por exemplo, na celula da origem com tamanho 20, a coordenada Turtle (10,10)\n",
    "        representa o meio da célula. A chamada de função 'chao_da_celula(10, 10)' retorna\n",
    "        as coordenadas de início dessa célula (0,0)\n",
    "        Dica: para entender, veja o exemplo da função: 'uso_do_floor()''\n",
    "    \"\"\"\n",
    "    chao_x = int(floor(x, tam_celula))\n",
    "    chao_y = int(floor(y, tam_celula))\n",
    "    return chao_x, chao_y"
   ]
  },
  {
   "cell_type": "code",
   "execution_count": 13,
   "metadata": {},
   "outputs": [],
   "source": [
    "def em_coord_turtle(lin, col):\n",
    "    \"\"\" Dados os índices da matriz (lin, col), retorna as coordenadas do Turtle correspondentes.\n",
    "        Por exemplo, numa matriz quadrada de dimensão 20, com tamanho de célula 20,\n",
    "        a chamada de função 'em_coord_turtle(0,0)' deve retornar (-200,200) e a\n",
    "        chamada de função 'em_coord_turtle(10,10)' deve retornar (0,0)\n",
    "    \"\"\"\n",
    "    meio = dim // 2\n",
    "    x = (col - meio) * tam_celula\n",
    "    y = (meio - lin) * tam_celula\n",
    "    return x, y"
   ]
  },
  {
   "cell_type": "code",
   "execution_count": 14,
   "metadata": {},
   "outputs": [],
   "source": [
    "def em_coord_matriz(x, y):\n",
    "    \"\"\" Dada uma coordenada do Turtle (x,y), retorna os índices correspondentes da matriz\n",
    "        Por exemplo, numa matriz quadrada de dimensão 20, com tamanho de célula 20,\n",
    "        a chamada de função 'em_coord_matriz(-200, 200)' deve retornar (0,0) e a\n",
    "        chamada de função 'em_coord_matriz(0, 0)' deve retornar (10,10).\n",
    "        Dica: utilize a função 'chao_da_celula(x, y)'\n",
    "    \"\"\"\n",
    "    x, y = chao_da_celula(x, y)\n",
    "    meio = dim // 2\n",
    "    lin = int(meio - (y / tam_celula))\n",
    "    col = int(meio + (x / tam_celula))\n",
    "    return lin, col"
   ]
  },
  {
   "cell_type": "code",
   "execution_count": 15,
   "metadata": {},
   "outputs": [],
   "source": [
    "def adicionar_agente():\n",
    "    \"\"\" Desenha o agente no labirinto \"\"\"\n",
    "    lin, col = cel_aleatoria()\n",
    "    x, y = em_coord_turtle(lin, col)\n",
    "    desenhar_agente(x, y, 'yellow')"
   ]
  },
  {
   "cell_type": "code",
   "execution_count": 16,
   "metadata": {},
   "outputs": [],
   "source": [
    "def ler_matriz_aleatoria(dim):\n",
    "    \"\"\" Retorna uma matriz quadrada na dimensão especificada com números\n",
    "        aleatórios (0's e 1's)\n",
    "        Dica: utilize numpy.random.randint()\n",
    "    \"\"\"\n",
    "    return np.random.randint(2,size=(dim,dim))"
   ]
  },
  {
   "cell_type": "code",
   "execution_count": 17,
   "metadata": {},
   "outputs": [],
   "source": [
    "def cel_aleatoria():\n",
    "    \"\"\" Retorna os índices de uma posição que contenha 1\n",
    "        Por exemplo, na matriz a seguir:\n",
    "        [[ 1  0  0 ]\n",
    "         [ 0  1  0 ]\n",
    "         [ 0  0  1 ]]\n",
    "        Somente os elementos da diagonal principal [(0,0), (1,1), (2,2)]\n",
    "        poderiam ser retornados\n",
    "        Dica: utilize numpy.random.randint()\n",
    "    \"\"\"\n",
    "    i, j = np.random.randint(dim, size=(2))\n",
    "    while (not eh_caminho(i, j)):\n",
    "        i, j = np.random.randint(dim, size=(2))\n",
    "    return i, j"
   ]
  },
  {
   "cell_type": "code",
   "execution_count": 18,
   "metadata": {},
   "outputs": [],
   "source": [
    "def eh_caminho(lin, col):\n",
    "    \"\"\" Dada uma matriz quadrada, retorna True quando (lin, col) == 1 e\n",
    "        False caso contrário.\n",
    "        Por exemplo, na matriz a seguir:\n",
    "        [[ 1  0  0 ]\n",
    "         [ 0  1  0 ]\n",
    "         [ 0  0  1 ]]\n",
    "        a chamada de função 'eh_caminho(0,0)' retorna True e\n",
    "        a chamada de função 'eh_caminho(0,1)' retorna False\n",
    "    \"\"\"\n",
    "    return matriz[lin][col] == 1"
   ]
  },
  {
   "cell_type": "code",
   "execution_count": 19,
   "metadata": {},
   "outputs": [],
   "source": [
    "def desenhar_agente(x, y, cor):\n",
    "    \"\"\" Leva a tartaruga até a posição (x,y) e desenha por exemplo um círculo\n",
    "        para representar o agente (i.e., pacman, fantasmas)\n",
    "    \"\"\"\n",
    "    c = tam_celula // 2\n",
    "    up()\n",
    "    goto(x + c,y + c)\n",
    "    down()\n",
    "    dot(tam_agente, cor)"
   ]
  },
  {
   "cell_type": "code",
   "execution_count": 20,
   "metadata": {},
   "outputs": [],
   "source": [
    "def desenhar_pastilha(x, y, cor):\n",
    "    \"\"\" Leva a tartaruga até a posição (x,y) e desenha por exemplo um círculo\n",
    "        para representar a pastilha\n",
    "    \"\"\"\n",
    "    c = tam_celula // 2\n",
    "    up()\n",
    "    goto(x + c,y + c)\n",
    "    down()\n",
    "    dot(3, cor)"
   ]
  },
  {
   "cell_type": "code",
   "execution_count": 21,
   "metadata": {},
   "outputs": [],
   "source": [
    "#matriz = ler_matriz_fixa()\n",
    "matriz = ler_matriz_aleatoria(20)\n",
    "dim = len(matriz)\n",
    "tam_celula = dim\n",
    "tam_agente = dim"
   ]
  },
  {
   "cell_type": "code",
   "execution_count": 22,
   "metadata": {},
   "outputs": [],
   "source": [
    "def main():\n",
    "\n",
    "    criar_labirinto()\n",
    "    adicionar_agente()\n",
    "    done()\n",
    "\n",
    "    # Utilize esse comando para testar se as trasnformações das coordenadas\n",
    "    # estão funcionando. Ao final da execução, o resultado deve ser que todas as transformações funcionaram\n",
    "    print(testar_transf_de_coord())"
   ]
  },
  {
   "cell_type": "code",
   "execution_count": 25,
   "metadata": {},
   "outputs": [
    {
     "name": "stdout",
     "output_type": "stream",
     "text": [
      "Todas as transformações de coordenadas funcionaram\n"
     ]
    }
   ],
   "source": [
    "main()"
   ]
  }
 ],
 "metadata": {
  "kernelspec": {
   "display_name": "Python 3.8.0 32-bit",
   "language": "python",
   "name": "python38032bite44573f15b8c4147837107756fc543c6"
  },
  "language_info": {
   "codemirror_mode": {
    "name": "ipython",
    "version": 3
   },
   "file_extension": ".py",
   "mimetype": "text/x-python",
   "name": "python",
   "nbconvert_exporter": "python",
   "pygments_lexer": "ipython3",
   "version": "3.8.0"
  }
 },
 "nbformat": 4,
 "nbformat_minor": 4
}
